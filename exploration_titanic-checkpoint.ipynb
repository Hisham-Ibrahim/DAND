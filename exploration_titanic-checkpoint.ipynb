{
 "cells": [
  {
   "cell_type": "markdown",
   "id": "ec0a8cda",
   "metadata": {
    "slideshow": {
     "slide_type": "slide"
    }
   },
   "source": [
    "# Titanic Data Analysis"
   ]
  },
  {
   "cell_type": "markdown",
   "id": "71423090",
   "metadata": {
    "slideshow": {
     "slide_type": "slide"
    }
   },
   "source": [
    "## Introduction\n",
    "This project is aboyt analyzing data from the historical disaster [Titanic sinks](https://github.com/awesomedata/awesome-public-datasets/tree/master/Datasets). I will begint the analysis with looking into the data and make sure of following the [tidy data outlines](https://cran.r-project.org/web/packages/tidyr/vignettes/tidy-data.html) as possible. Also  I will be using Python and four data analysis libraries: Pandas, Numpy, Matplotlib, Scipy, and Seaborn. In order to answer the questions that will be asked during the next steps and tell the true story. :)"
   ]
  },
  {
   "cell_type": "markdown",
   "id": "1300fb99",
   "metadata": {
    "slideshow": {
     "slide_type": "slide"
    }
   },
   "source": [
    "## Questions\n",
    "\n",
    "\n",
    "\"Joy, then. But the figures are awkward. As the Telegraph admits, in first class over a third of the men, almost all of the women and all the children survived. In second it was less than 10 per cent of the men, 84 per cent of the women and all the children. But in steerage 12 per cent of the men, 55 per cent of the women and less than one in three of the children survived. Interrogating the figures shows that - despite the strict 'women and children first' policy - a greater proportion of first class men survived, than of third class children.\" [Full story](https://www.independent.co.uk/voices/did-third-class-passengers-titanic-have-fair-chance-1155678.html)\n",
    "\n",
    "We conclude that some passengers had a preference for success based on their social status, regardless of their age or sex. \n",
    "\n",
    "- Did social class have an effect on survival rates?\n",
    "- Did sex have an effect on survival rates?\n",
    "- Did age, regardless of gender, have any effect on survival rates?"
   ]
  },
  {
   "cell_type": "markdown",
   "id": "68068b1b",
   "metadata": {
    "slideshow": {
     "slide_type": "slide"
    }
   },
   "source": [
    "# Data wrangling"
   ]
  },
  {
   "cell_type": "markdown",
   "id": "3012f247",
   "metadata": {
    "slideshow": {
     "slide_type": "slide"
    }
   },
   "source": [
    "# Data Description\n",
    "![Data Dictionary](Untitled.png)\n",
    "\n",
    "\n",
    "### Variable Notes\n",
    "pclass: A proxy for socio-economic status (SES)\n",
    "\n",
    "- 1st = Upper\n",
    "\n",
    "- 2nd = Middle\n",
    "\n",
    "- 3rd = Lower\n",
    "\n",
    "\n",
    "age: Age is fractional if less than 1. If the age is estimated, is it in the form of xx.5\n",
    "\n",
    "\n",
    "#### sibsp: The dataset defines family relations in this way...\n",
    "\n",
    "Sibling = brother, sister, stepbrother, stepsister\n",
    "\n",
    "Spouse = husband, wife (mistresses and fiancés were ignored)\n",
    "\n",
    "#### parch: The dataset defines family relations in this way...\n",
    "\n",
    "Parent = mother, father\n",
    "\n",
    "Child = daughter, son, stepdaughter, stepson\n",
    "\n",
    "Some children travelled only with a nanny, therefore parch=0 for them.\n",
    "\n",
    "## ============================\n",
    "Cousins, nieces and nephews, aunts and uncles, and in-laws were also excluded from this study. Furthermore, some people traveled with very close friends or neighbors, but such relationships apparently aren't supported by the definitions.\n",
    "### [According to kaggle](https://www.kaggle.com/c/titanic/data)"
   ]
  },
  {
   "cell_type": "code",
   "execution_count": 1,
   "id": "d8e12d1b",
   "metadata": {
    "slideshow": {
     "slide_type": "skip"
    }
   },
   "outputs": [],
   "source": [
    "# import all packages and set plots to be embedded inline\n",
    "import numpy as np\n",
    "import pandas as pd\n",
    "import matplotlib.pyplot as plt\n",
    "import seaborn as sns\n",
    "\n",
    "%matplotlib inline"
   ]
  },
  {
   "cell_type": "code",
   "execution_count": 2,
   "id": "d0291b81",
   "metadata": {
    "slideshow": {
     "slide_type": "skip"
    }
   },
   "outputs": [],
   "source": [
    "# load in the dataset into a pandas dataframe\n",
    "tatanicData = pd.read_csv('titanic.csv')"
   ]
  },
  {
   "cell_type": "code",
   "execution_count": 3,
   "id": "a208bb92",
   "metadata": {
    "slideshow": {
     "slide_type": "skip"
    }
   },
   "outputs": [
    {
     "name": "stdout",
     "output_type": "stream",
     "text": [
      "(891, 12)\n",
      "PassengerId      int64\n",
      "Survived         int64\n",
      "Pclass           int64\n",
      "Name            object\n",
      "Sex             object\n",
      "Age            float64\n",
      "SibSp            int64\n",
      "Parch            int64\n",
      "Ticket          object\n",
      "Fare           float64\n",
      "Cabin           object\n",
      "Embarked        object\n",
      "dtype: object\n",
      "   PassengerId  Survived  Pclass  \\\n",
      "0            1         0       3   \n",
      "1            2         1       1   \n",
      "2            3         1       3   \n",
      "3            4         1       1   \n",
      "4            5         0       3   \n",
      "5            6         0       3   \n",
      "6            7         0       1   \n",
      "7            8         0       3   \n",
      "8            9         1       3   \n",
      "9           10         1       2   \n",
      "\n",
      "                                                Name     Sex   Age  SibSp  \\\n",
      "0                            Braund, Mr. Owen Harris    male  22.0      1   \n",
      "1  Cumings, Mrs. John Bradley (Florence Briggs Th...  female  38.0      1   \n",
      "2                             Heikkinen, Miss. Laina  female  26.0      0   \n",
      "3       Futrelle, Mrs. Jacques Heath (Lily May Peel)  female  35.0      1   \n",
      "4                           Allen, Mr. William Henry    male  35.0      0   \n",
      "5                                   Moran, Mr. James    male   NaN      0   \n",
      "6                            McCarthy, Mr. Timothy J    male  54.0      0   \n",
      "7                     Palsson, Master. Gosta Leonard    male   2.0      3   \n",
      "8  Johnson, Mrs. Oscar W (Elisabeth Vilhelmina Berg)  female  27.0      0   \n",
      "9                Nasser, Mrs. Nicholas (Adele Achem)  female  14.0      1   \n",
      "\n",
      "   Parch            Ticket     Fare Cabin Embarked  \n",
      "0      0         A/5 21171   7.2500   NaN        S  \n",
      "1      0          PC 17599  71.2833   C85        C  \n",
      "2      0  STON/O2. 3101282   7.9250   NaN        S  \n",
      "3      0            113803  53.1000  C123        S  \n",
      "4      0            373450   8.0500   NaN        S  \n",
      "5      0            330877   8.4583   NaN        Q  \n",
      "6      0             17463  51.8625   E46        S  \n",
      "7      1            349909  21.0750   NaN        S  \n",
      "8      2            347742  11.1333   NaN        S  \n",
      "9      0            237736  30.0708   NaN        C  \n"
     ]
    }
   ],
   "source": [
    "# high-level overview of data shape and composition\n",
    "print(tatanicData.shape)\n",
    "print(tatanicData.dtypes)\n",
    "print(tatanicData.head(10))"
   ]
  },
  {
   "cell_type": "code",
   "execution_count": 4,
   "id": "427281a4",
   "metadata": {
    "slideshow": {
     "slide_type": "skip"
    }
   },
   "outputs": [
    {
     "name": "stdout",
     "output_type": "stream",
     "text": [
      "<class 'pandas.core.frame.DataFrame'>\n",
      "RangeIndex: 891 entries, 0 to 890\n",
      "Data columns (total 12 columns):\n",
      " #   Column       Non-Null Count  Dtype  \n",
      "---  ------       --------------  -----  \n",
      " 0   PassengerId  891 non-null    int64  \n",
      " 1   Survived     891 non-null    int64  \n",
      " 2   Pclass       891 non-null    int64  \n",
      " 3   Name         891 non-null    object \n",
      " 4   Sex          891 non-null    object \n",
      " 5   Age          714 non-null    float64\n",
      " 6   SibSp        891 non-null    int64  \n",
      " 7   Parch        891 non-null    int64  \n",
      " 8   Ticket       891 non-null    object \n",
      " 9   Fare         891 non-null    float64\n",
      " 10  Cabin        204 non-null    object \n",
      " 11  Embarked     889 non-null    object \n",
      "dtypes: float64(2), int64(5), object(5)\n",
      "memory usage: 83.7+ KB\n"
     ]
    }
   ],
   "source": [
    "tatanicData.info()"
   ]
  },
  {
   "cell_type": "code",
   "execution_count": 5,
   "id": "88fe479f",
   "metadata": {
    "slideshow": {
     "slide_type": "slide"
    }
   },
   "outputs": [
    {
     "data": {
      "text/plain": [
       "PassengerId      0\n",
       "Survived         0\n",
       "Pclass           0\n",
       "Name             0\n",
       "Sex              0\n",
       "Age            177\n",
       "SibSp            0\n",
       "Parch            0\n",
       "Ticket           0\n",
       "Fare             0\n",
       "Cabin          687\n",
       "Embarked         2\n",
       "dtype: int64"
      ]
     },
     "execution_count": 5,
     "metadata": {},
     "output_type": "execute_result"
    }
   ],
   "source": [
    "tatanicData.isnull().sum()"
   ]
  },
  {
   "cell_type": "markdown",
   "id": "6704783a",
   "metadata": {
    "slideshow": {
     "slide_type": "slide"
    }
   },
   "source": [
    "As we can see, there are some missing values in the age and cabin column, but this will not pose a problem in the analysis process because we do not need these two columns, but it is useful to know that"
   ]
  },
  {
   "cell_type": "markdown",
   "id": "3e82edc3",
   "metadata": {
    "slideshow": {
     "slide_type": "slide"
    }
   },
   "source": [
    "# Data Cleaning\n",
    "After looking at the data, I think that there are some columns that I will not need and will not affect the analysis process, and therefore I will remove them while keeping the following columns.\n",
    "- Survived\n",
    "- Pclass\n",
    "- Sex\n",
    "- Age\n",
    "- SibSp\n",
    "- Parch\n",
    "\n",
    " I will start cleaning with drop columns and then to remove duplicayed and fix missing values."
   ]
  },
  {
   "cell_type": "code",
   "execution_count": 6,
   "id": "d971be06",
   "metadata": {
    "slideshow": {
     "slide_type": "skip"
    }
   },
   "outputs": [
    {
     "data": {
      "text/plain": [
       "0"
      ]
     },
     "execution_count": 6,
     "metadata": {},
     "output_type": "execute_result"
    }
   ],
   "source": [
    "tatanicData.duplicated().sum()"
   ]
  },
  {
   "cell_type": "markdown",
   "id": "fa4780f9",
   "metadata": {
    "slideshow": {
     "slide_type": "skip"
    }
   },
   "source": [
    "Seems that there is no duplicated rows"
   ]
  },
  {
   "cell_type": "code",
   "execution_count": 7,
   "id": "9d86ef9f",
   "metadata": {
    "slideshow": {
     "slide_type": "skip"
    }
   },
   "outputs": [
    {
     "name": "stdout",
     "output_type": "stream",
     "text": [
      "<class 'pandas.core.frame.DataFrame'>\n",
      "RangeIndex: 891 entries, 0 to 890\n",
      "Data columns (total 6 columns):\n",
      " #   Column    Non-Null Count  Dtype  \n",
      "---  ------    --------------  -----  \n",
      " 0   Survived  891 non-null    int64  \n",
      " 1   Pclass    891 non-null    int64  \n",
      " 2   Sex       891 non-null    object \n",
      " 3   Age       714 non-null    float64\n",
      " 4   SibSp     891 non-null    int64  \n",
      " 5   Parch     891 non-null    int64  \n",
      "dtypes: float64(1), int64(4), object(1)\n",
      "memory usage: 41.9+ KB\n"
     ]
    }
   ],
   "source": [
    "titanicData_clean = tatanicData.drop(['PassengerId','Name','Ticket','Cabin','Fare','Embarked'], axis=1)\n",
    "titanicData_clean.info()"
   ]
  },
  {
   "cell_type": "markdown",
   "id": "57e1825d",
   "metadata": {
    "slideshow": {
     "slide_type": "skip"
    }
   },
   "source": [
    "891 rows and 6 columns"
   ]
  },
  {
   "cell_type": "markdown",
   "id": "5d64615c",
   "metadata": {
    "slideshow": {
     "slide_type": "skip"
    }
   },
   "source": [
    "# ============================="
   ]
  },
  {
   "cell_type": "code",
   "execution_count": 8,
   "id": "746ba11f",
   "metadata": {
    "slideshow": {
     "slide_type": "skip"
    }
   },
   "outputs": [
    {
     "data": {
      "text/html": [
       "<div>\n",
       "<style scoped>\n",
       "    .dataframe tbody tr th:only-of-type {\n",
       "        vertical-align: middle;\n",
       "    }\n",
       "\n",
       "    .dataframe tbody tr th {\n",
       "        vertical-align: top;\n",
       "    }\n",
       "\n",
       "    .dataframe thead th {\n",
       "        text-align: right;\n",
       "    }\n",
       "</style>\n",
       "<table border=\"1\" class=\"dataframe\">\n",
       "  <thead>\n",
       "    <tr style=\"text-align: right;\">\n",
       "      <th></th>\n",
       "      <th>Survived</th>\n",
       "      <th>Pclass</th>\n",
       "      <th>Sex</th>\n",
       "      <th>Age</th>\n",
       "      <th>SibSp</th>\n",
       "      <th>Parch</th>\n",
       "    </tr>\n",
       "  </thead>\n",
       "  <tbody>\n",
       "    <tr>\n",
       "      <th>623</th>\n",
       "      <td>0</td>\n",
       "      <td>3</td>\n",
       "      <td>male</td>\n",
       "      <td>21.0</td>\n",
       "      <td>0</td>\n",
       "      <td>0</td>\n",
       "    </tr>\n",
       "    <tr>\n",
       "      <th>419</th>\n",
       "      <td>0</td>\n",
       "      <td>3</td>\n",
       "      <td>female</td>\n",
       "      <td>10.0</td>\n",
       "      <td>0</td>\n",
       "      <td>2</td>\n",
       "    </tr>\n",
       "    <tr>\n",
       "      <th>347</th>\n",
       "      <td>1</td>\n",
       "      <td>3</td>\n",
       "      <td>female</td>\n",
       "      <td>NaN</td>\n",
       "      <td>1</td>\n",
       "      <td>0</td>\n",
       "    </tr>\n",
       "    <tr>\n",
       "      <th>826</th>\n",
       "      <td>0</td>\n",
       "      <td>3</td>\n",
       "      <td>male</td>\n",
       "      <td>NaN</td>\n",
       "      <td>0</td>\n",
       "      <td>0</td>\n",
       "    </tr>\n",
       "    <tr>\n",
       "      <th>618</th>\n",
       "      <td>1</td>\n",
       "      <td>2</td>\n",
       "      <td>female</td>\n",
       "      <td>4.0</td>\n",
       "      <td>2</td>\n",
       "      <td>1</td>\n",
       "    </tr>\n",
       "    <tr>\n",
       "      <th>738</th>\n",
       "      <td>0</td>\n",
       "      <td>3</td>\n",
       "      <td>male</td>\n",
       "      <td>NaN</td>\n",
       "      <td>0</td>\n",
       "      <td>0</td>\n",
       "    </tr>\n",
       "    <tr>\n",
       "      <th>412</th>\n",
       "      <td>1</td>\n",
       "      <td>1</td>\n",
       "      <td>female</td>\n",
       "      <td>33.0</td>\n",
       "      <td>1</td>\n",
       "      <td>0</td>\n",
       "    </tr>\n",
       "    <tr>\n",
       "      <th>459</th>\n",
       "      <td>0</td>\n",
       "      <td>3</td>\n",
       "      <td>male</td>\n",
       "      <td>NaN</td>\n",
       "      <td>0</td>\n",
       "      <td>0</td>\n",
       "    </tr>\n",
       "    <tr>\n",
       "      <th>165</th>\n",
       "      <td>1</td>\n",
       "      <td>3</td>\n",
       "      <td>male</td>\n",
       "      <td>9.0</td>\n",
       "      <td>0</td>\n",
       "      <td>2</td>\n",
       "    </tr>\n",
       "    <tr>\n",
       "      <th>118</th>\n",
       "      <td>0</td>\n",
       "      <td>1</td>\n",
       "      <td>male</td>\n",
       "      <td>24.0</td>\n",
       "      <td>0</td>\n",
       "      <td>1</td>\n",
       "    </tr>\n",
       "  </tbody>\n",
       "</table>\n",
       "</div>"
      ],
      "text/plain": [
       "     Survived  Pclass     Sex   Age  SibSp  Parch\n",
       "623         0       3    male  21.0      0      0\n",
       "419         0       3  female  10.0      0      2\n",
       "347         1       3  female   NaN      1      0\n",
       "826         0       3    male   NaN      0      0\n",
       "618         1       2  female   4.0      2      1\n",
       "738         0       3    male   NaN      0      0\n",
       "412         1       1  female  33.0      1      0\n",
       "459         0       3    male   NaN      0      0\n",
       "165         1       3    male   9.0      0      2\n",
       "118         0       1    male  24.0      0      1"
      ]
     },
     "execution_count": 8,
     "metadata": {},
     "output_type": "execute_result"
    }
   ],
   "source": [
    "titanicData_clean.sample(10)"
   ]
  },
  {
   "cell_type": "markdown",
   "id": "b98d7628",
   "metadata": {
    "slideshow": {
     "slide_type": "skip"
    }
   },
   "source": [
    "Seems that there is some missing ages we will separate them according to sex"
   ]
  },
  {
   "cell_type": "code",
   "execution_count": 9,
   "id": "e5a06bb9",
   "metadata": {
    "slideshow": {
     "slide_type": "slide"
    }
   },
   "outputs": [
    {
     "data": {
      "text/plain": [
       "Survived      0\n",
       "Pclass        0\n",
       "Sex           0\n",
       "Age         177\n",
       "SibSp         0\n",
       "Parch         0\n",
       "dtype: int64"
      ]
     },
     "execution_count": 9,
     "metadata": {},
     "output_type": "execute_result"
    }
   ],
   "source": [
    "titanicData_clean.isnull().sum()"
   ]
  },
  {
   "cell_type": "markdown",
   "id": "5b7de5ab",
   "metadata": {
    "slideshow": {
     "slide_type": "slide"
    }
   },
   "source": [
    "There are 177 missing records !!"
   ]
  },
  {
   "cell_type": "code",
   "execution_count": 10,
   "id": "78f02ecc",
   "metadata": {
    "slideshow": {
     "slide_type": "skip"
    }
   },
   "outputs": [],
   "source": [
    "male = titanicData_clean.query('Sex == \"male\"')\n",
    "female = titanicData_clean.query('Sex == \"female\"')"
   ]
  },
  {
   "cell_type": "code",
   "execution_count": 11,
   "id": "f9ab5761",
   "metadata": {
    "slideshow": {
     "slide_type": "slide"
    }
   },
   "outputs": [
    {
     "name": "stdout",
     "output_type": "stream",
     "text": [
      "Male mising ages:  124 \n",
      "Female mising ages:  53\n"
     ]
    }
   ],
   "source": [
    "print('Male mising ages: ',male.Age.isnull().sum(),\n",
    "      '\\nFemale mising ages: ',female.Age.isnull().sum())"
   ]
  },
  {
   "cell_type": "markdown",
   "id": "e275a84c",
   "metadata": {
    "slideshow": {
     "slide_type": "subslide"
    }
   },
   "source": [
    "This problem will affect the answer to the second question, which states the effect of age on survival rates regardless of gender. The percentage of missing data in life is approximately 19 percent of the entire data and is a large percentage."
   ]
  },
  {
   "cell_type": "markdown",
   "id": "8f6d5d99",
   "metadata": {
    "slideshow": {
     "slide_type": "slide"
    }
   },
   "source": [
    "# Data Exploration and Visualization\n"
   ]
  },
  {
   "cell_type": "code",
   "execution_count": 12,
   "id": "91b67fd1",
   "metadata": {
    "slideshow": {
     "slide_type": "skip"
    }
   },
   "outputs": [
    {
     "name": "stdout",
     "output_type": "stream",
     "text": [
      "(891, 6)\n",
      "Survived      int64\n",
      "Pclass        int64\n",
      "Sex          object\n",
      "Age         float64\n",
      "SibSp         int64\n",
      "Parch         int64\n",
      "dtype: object\n",
      "   Survived  Pclass     Sex   Age  SibSp  Parch\n",
      "0         0       3    male  22.0      1      0\n",
      "1         1       1  female  38.0      1      0\n",
      "2         1       3  female  26.0      0      0\n",
      "3         1       1  female  35.0      1      0\n",
      "4         0       3    male  35.0      0      0\n",
      "5         0       3    male   NaN      0      0\n",
      "6         0       1    male  54.0      0      0\n",
      "7         0       3    male   2.0      3      1\n",
      "8         1       3  female  27.0      0      2\n",
      "9         1       2  female  14.0      1      0\n"
     ]
    }
   ],
   "source": [
    "# high-level overview of data shape and composition\n",
    "print(titanicData_clean.shape)\n",
    "print(titanicData_clean.dtypes)\n",
    "print(titanicData_clean.head(10))"
   ]
  },
  {
   "cell_type": "code",
   "execution_count": 13,
   "id": "c4e3f7ac",
   "metadata": {
    "slideshow": {
     "slide_type": "skip"
    }
   },
   "outputs": [
    {
     "name": "stdout",
     "output_type": "stream",
     "text": [
      "         Survived      Pclass         Age       SibSp       Parch\n",
      "count  891.000000  891.000000  714.000000  891.000000  891.000000\n",
      "mean     0.383838    2.308642   29.699118    0.523008    0.381594\n",
      "std      0.486592    0.836071   14.526497    1.102743    0.806057\n",
      "min      0.000000    1.000000    0.420000    0.000000    0.000000\n",
      "25%      0.000000    2.000000   20.125000    0.000000    0.000000\n",
      "50%      0.000000    3.000000   28.000000    0.000000    0.000000\n",
      "75%      1.000000    3.000000   38.000000    1.000000    0.000000\n",
      "max      1.000000    3.000000   80.000000    8.000000    6.000000\n"
     ]
    }
   ],
   "source": [
    "# descriptive statistics for numeric variables\n",
    "print(titanicData_clean.describe())"
   ]
  },
  {
   "cell_type": "code",
   "execution_count": 14,
   "id": "5b3c44de",
   "metadata": {
    "slideshow": {
     "slide_type": "skip"
    }
   },
   "outputs": [
    {
     "data": {
      "text/html": [
       "<div>\n",
       "<style scoped>\n",
       "    .dataframe tbody tr th:only-of-type {\n",
       "        vertical-align: middle;\n",
       "    }\n",
       "\n",
       "    .dataframe tbody tr th {\n",
       "        vertical-align: top;\n",
       "    }\n",
       "\n",
       "    .dataframe thead th {\n",
       "        text-align: right;\n",
       "    }\n",
       "</style>\n",
       "<table border=\"1\" class=\"dataframe\">\n",
       "  <thead>\n",
       "    <tr style=\"text-align: right;\">\n",
       "      <th></th>\n",
       "      <th>Survived</th>\n",
       "      <th>Pclass</th>\n",
       "      <th>Sex</th>\n",
       "      <th>Age</th>\n",
       "      <th>SibSp</th>\n",
       "      <th>Parch</th>\n",
       "    </tr>\n",
       "  </thead>\n",
       "  <tbody>\n",
       "    <tr>\n",
       "      <th>78</th>\n",
       "      <td>1</td>\n",
       "      <td>2</td>\n",
       "      <td>male</td>\n",
       "      <td>0.83</td>\n",
       "      <td>0</td>\n",
       "      <td>2</td>\n",
       "    </tr>\n",
       "    <tr>\n",
       "      <th>305</th>\n",
       "      <td>1</td>\n",
       "      <td>1</td>\n",
       "      <td>male</td>\n",
       "      <td>0.92</td>\n",
       "      <td>1</td>\n",
       "      <td>2</td>\n",
       "    </tr>\n",
       "    <tr>\n",
       "      <th>469</th>\n",
       "      <td>1</td>\n",
       "      <td>3</td>\n",
       "      <td>female</td>\n",
       "      <td>0.75</td>\n",
       "      <td>2</td>\n",
       "      <td>1</td>\n",
       "    </tr>\n",
       "    <tr>\n",
       "      <th>644</th>\n",
       "      <td>1</td>\n",
       "      <td>3</td>\n",
       "      <td>female</td>\n",
       "      <td>0.75</td>\n",
       "      <td>2</td>\n",
       "      <td>1</td>\n",
       "    </tr>\n",
       "    <tr>\n",
       "      <th>755</th>\n",
       "      <td>1</td>\n",
       "      <td>2</td>\n",
       "      <td>male</td>\n",
       "      <td>0.67</td>\n",
       "      <td>1</td>\n",
       "      <td>1</td>\n",
       "    </tr>\n",
       "    <tr>\n",
       "      <th>803</th>\n",
       "      <td>1</td>\n",
       "      <td>3</td>\n",
       "      <td>male</td>\n",
       "      <td>0.42</td>\n",
       "      <td>0</td>\n",
       "      <td>1</td>\n",
       "    </tr>\n",
       "    <tr>\n",
       "      <th>831</th>\n",
       "      <td>1</td>\n",
       "      <td>2</td>\n",
       "      <td>male</td>\n",
       "      <td>0.83</td>\n",
       "      <td>1</td>\n",
       "      <td>1</td>\n",
       "    </tr>\n",
       "  </tbody>\n",
       "</table>\n",
       "</div>"
      ],
      "text/plain": [
       "     Survived  Pclass     Sex   Age  SibSp  Parch\n",
       "78          1       2    male  0.83      0      2\n",
       "305         1       1    male  0.92      1      2\n",
       "469         1       3  female  0.75      2      1\n",
       "644         1       3  female  0.75      2      1\n",
       "755         1       2    male  0.67      1      1\n",
       "803         1       3    male  0.42      0      1\n",
       "831         1       2    male  0.83      1      1"
      ]
     },
     "execution_count": 14,
     "metadata": {},
     "output_type": "execute_result"
    }
   ],
   "source": [
    "# Age min at 0.42 looks a bit weird so give a closer look\n",
    "titanicData_clean[titanicData_clean['Age'] < 1]"
   ]
  },
  {
   "cell_type": "markdown",
   "id": "a7cd7e14",
   "metadata": {
    "slideshow": {
     "slide_type": "skip"
    }
   },
   "source": [
    "According to [Data Description](https://www.kaggle.com/c/titanic/data) **\"Age is fractional if less than 1. If the age is estimated, is it in the form of xx.5\"**"
   ]
  },
  {
   "cell_type": "code",
   "execution_count": 15,
   "id": "7609c569",
   "metadata": {
    "slideshow": {
     "slide_type": "skip"
    }
   },
   "outputs": [],
   "source": [
    "class1=titanicData_clean.query('Pclass == 1')\n",
    "class2=titanicData_clean.query('Pclass == 2')\n",
    "class3=titanicData_clean.query('Pclass == 3')"
   ]
  },
  {
   "cell_type": "code",
   "execution_count": 16,
   "id": "2453094b",
   "metadata": {
    "slideshow": {
     "slide_type": "skip"
    }
   },
   "outputs": [
    {
     "data": {
      "text/plain": [
       "(1    216\n",
       " Name: Pclass, dtype: int64,\n",
       " 2    184\n",
       " Name: Pclass, dtype: int64,\n",
       " 3    491\n",
       " Name: Pclass, dtype: int64)"
      ]
     },
     "execution_count": 16,
     "metadata": {},
     "output_type": "execute_result"
    }
   ],
   "source": [
    "class1.Pclass.value_counts(),class2.Pclass.value_counts(),class3.Pclass.value_counts()"
   ]
  },
  {
   "cell_type": "markdown",
   "id": "521b8820",
   "metadata": {
    "slideshow": {
     "slide_type": "-"
    }
   },
   "source": [
    "# Question 1\n",
    "Did social class have an effect on survival rates?"
   ]
  },
  {
   "cell_type": "markdown",
   "id": "86fc8c6d",
   "metadata": {},
   "source": [
    "[I used the code from here](https://github.com/Wrinth/data_analyst_projects/blob/master/02%20-%20Investigate%20the%20Titanic%20Dataset/.ipynb_checkpoints/titanic_data_analysis-checkpoint.ipynb)"
   ]
  },
  {
   "cell_type": "code",
   "execution_count": 17,
   "id": "712604dd",
   "metadata": {},
   "outputs": [],
   "source": [
    "def survival_rate(pclass, sex):\n",
    "    \"\"\"\n",
    "    Args:\n",
    "        pclass: class value 1,2 or 3\n",
    "        sex: male or female\n",
    "    Returns:\n",
    "        survival rate as percentage.\n",
    "    \"\"\"\n",
    "    groupedByTotal = titanicData_clean.groupby(['Pclass', 'Sex']).size()[pclass,sex].astype('float')\n",
    "    groupedBySurvivedSex = titanicData_clean.groupby(['Pclass','Survived','Sex']).size()[pclass,1,sex].astype('float')\n",
    "    survivedSexPercentage = (groupedBySurvivedSex / groupedByTotal * 100).round(2)\n",
    "    \n",
    "    return survivedSexPercentage"
   ]
  },
  {
   "cell_type": "code",
   "execution_count": 18,
   "id": "ac1656db",
   "metadata": {},
   "outputs": [],
   "source": [
    "groupedbyClassSurvivedSize = titanicData_clean.groupby(['Pclass','Survived','Sex']).size()\n"
   ]
  },
  {
   "cell_type": "code",
   "execution_count": 19,
   "id": "a2f5e871",
   "metadata": {
    "slideshow": {
     "slide_type": "slide"
    }
   },
   "outputs": [
    {
     "name": "stdout",
     "output_type": "stream",
     "text": [
      "-----\n",
      "Class 1 - female survival rate: 96.81%\n",
      "Class 1 - male survival rate: 36.89%\n",
      "-----\n",
      "Class 2 - female survival rate: 92.11%\n",
      "Class 2 - male survival rate: 15.74%\n",
      "-----\n",
      "Class 3 - female survival rate: 50.0%\n",
      "Class 3 - male survival rate: 13.54%\n"
     ]
    }
   ],
   "source": [
    "# Print - Grouped by class, survival and sex\n",
    "print('-----')\n",
    "print('Class 1 - female survival rate: {}%'.format(survival_rate(1,'female')))\n",
    "print('Class 1 - male survival rate: {}%'.format(survival_rate(1,'male')))\n",
    "print('-----')\n",
    "print('Class 2 - female survival rate: {}%'.format(survival_rate(2,'female')))\n",
    "print('Class 2 - male survival rate: {}%'.format(survival_rate(2,'male')))\n",
    "print('-----')\n",
    "print('Class 3 - female survival rate: {}%'.format(survival_rate(3,'female')))\n",
    "print('Class 3 - male survival rate: {}%'.format(survival_rate(3,'male')))\n"
   ]
  },
  {
   "cell_type": "code",
   "execution_count": 20,
   "id": "3e3d37b4",
   "metadata": {
    "slideshow": {
     "slide_type": "subslide"
    }
   },
   "outputs": [
    {
     "name": "stderr",
     "output_type": "stream",
     "text": [
      "C:\\Users\\Hisham\\anaconda3\\lib\\site-packages\\seaborn\\categorical.py:3704: UserWarning: The `factorplot` function has been renamed to `catplot`. The original name will be removed in a future release. Please update your code. Note that the default `kind` in `factorplot` (`'point'`) has changed `'strip'` in `catplot`.\n",
      "  warnings.warn(msg)\n",
      "C:\\Users\\Hisham\\anaconda3\\lib\\site-packages\\seaborn\\categorical.py:3710: UserWarning: The `size` parameter has been renamed to `height`; please update your code.\n",
      "  warnings.warn(msg, UserWarning)\n",
      "C:\\Users\\Hisham\\anaconda3\\lib\\site-packages\\seaborn\\categorical.py:3704: UserWarning: The `factorplot` function has been renamed to `catplot`. The original name will be removed in a future release. Please update your code. Note that the default `kind` in `factorplot` (`'point'`) has changed `'strip'` in `catplot`.\n",
      "  warnings.warn(msg)\n",
      "C:\\Users\\Hisham\\anaconda3\\lib\\site-packages\\seaborn\\categorical.py:3710: UserWarning: The `size` parameter has been renamed to `height`; please update your code.\n",
      "  warnings.warn(msg, UserWarning)\n",
      "C:\\Users\\Hisham\\anaconda3\\lib\\site-packages\\seaborn\\_decorators.py:36: FutureWarning: Pass the following variable as a keyword arg: x. From version 0.12, the only valid positional argument will be `data`, and passing other arguments without an explicit keyword will result in an error or misinterpretation.\n",
      "  warnings.warn(\n"
     ]
    },
    {
     "data": {
      "image/png": "[encoded data removed]",
      "text/plain": [
       "<Figure size 864x360 with 3 Axes>"
      ]
     },
     "metadata": {
      "needs_background": "light"
     },
     "output_type": "display_data"
    },
    {
     "data": {
      "image/png": "[encoded data removed]",
      "text/plain": [
       "<Figure size 848.775x504 with 2 Axes>"
      ]
     },
     "metadata": {
      "needs_background": "light"
     },
     "output_type": "display_data"
    }
   ],
   "source": [
    "# Graph - Grouped by class, survival and sex\n",
    "g = sns.factorplot(x=\"Sex\", y=\"Survived\", col=\"Pclass\", data=titanicData_clean, \n",
    "                   saturation=.5, kind=\"bar\", ci=None, size=5, aspect=.8)\n",
    "\n",
    "# Fix up the labels\n",
    "(g.set_axis_labels('', 'Survival Rate')\n",
    "     .set_xticklabels([\"Men\", \"Women\"])\n",
    "     .set_titles(\"Class {col_name}\")\n",
    "     .set(ylim=(0, 1))\n",
    "     .despine(left=True, bottom=True))\n",
    "\n",
    "# Graph - Actual count of passengers by survival, group and sex\n",
    "g = sns.factorplot('Survived', col='Sex', hue='Pclass', data=titanicData_clean, kind='count', size=7, aspect=.8)\n",
    "\n",
    "# Fix up the labels\n",
    "(g.set_axis_labels('Suvivors', 'No. of Passengers')\n",
    "    .set_xticklabels([\"False\", \"True\"])\n",
    "    .set_titles('{col_name}')\n",
    ")\n",
    "\n",
    "titles = ['Men', 'Women']\n",
    "for ax, title in zip(g.axes.flat, titles):\n",
    "    ax.set_title(title)"
   ]
  },
  {
   "cell_type": "markdown",
   "id": "530321ec",
   "metadata": {
    "slideshow": {
     "slide_type": "slide"
    }
   },
   "source": [
    "From the statistics, it appears that C3 passengers had a similar survival rate as the C1 passengers, with 119 and 136 passengers surviving, respectively. Looking at the whole number of passengers and the percentage of passengers in each class, the calculation suggests that a passenger in Class 1 has about 2.5 times as much chance of surviving than a passenger in Class 3.\n",
    "- Class 1: 62.96%\n",
    "\n",
    "- Class 2: 47.28%\n",
    "\n",
    "- Class 3: 24.24%\n"
   ]
  },
  {
   "cell_type": "markdown",
   "id": "8eb11cbe",
   "metadata": {
    "slideshow": {
     "slide_type": "slide"
    }
   },
   "source": [
    "# Question 2\n",
    "Did women have higher chance to survival than adult male?\n"
   ]
  },
  {
   "cell_type": "code",
   "execution_count": 21,
   "id": "55007f92",
   "metadata": {
    "slideshow": {
     "slide_type": "skip"
    }
   },
   "outputs": [
    {
     "name": "stdout",
     "output_type": "stream",
     "text": [
      "Number of men and woman with age missing are  124  and  53  respectively\n"
     ]
    }
   ],
   "source": [
    "print('Number of men and woman with age missing are ',male.Age.isnull().sum(),\n",
    "      ' and ',female.Age.isnull().sum(),' respectively')\n",
    "\n"
   ]
  },
  {
   "cell_type": "code",
   "execution_count": 22,
   "id": "b75c0241",
   "metadata": {
    "slideshow": {
     "slide_type": "skip"
    }
   },
   "outputs": [],
   "source": [
    "# Drop the NaN values. Calculations will be okay with them (seen as zero) but will throw off averages and counts\n",
    "femaleCleaned = female.dropna()\n",
    "maleCleaned = male.dropna()\n"
   ]
  },
  {
   "cell_type": "code",
   "execution_count": 23,
   "id": "0efa3e14",
   "metadata": {
    "slideshow": {
     "slide_type": "skip"
    }
   },
   "outputs": [
    {
     "name": "stdout",
     "output_type": "stream",
     "text": [
      "     Survived  Pclass   Sex   Age  SibSp  Parch\n",
      "0           0       3  male  22.0      1      0\n",
      "4           0       3  male  35.0      0      0\n",
      "6           0       1  male  54.0      0      0\n",
      "7           0       3  male   2.0      3      1\n",
      "12          0       3  male  20.0      0      0\n",
      "..        ...     ...   ...   ...    ...    ...\n",
      "883         0       2  male  28.0      0      0\n",
      "884         0       3  male  25.0      0      0\n",
      "886         0       2  male  27.0      0      0\n",
      "889         1       1  male  26.0      0      0\n",
      "890         0       3  male  32.0      0      0\n",
      "\n",
      "[453 rows x 6 columns]      Survived  Pclass     Sex   Age  SibSp  Parch\n",
      "1           1       1  female  38.0      1      0\n",
      "2           1       3  female  26.0      0      0\n",
      "3           1       1  female  35.0      1      0\n",
      "8           1       3  female  27.0      0      2\n",
      "9           1       2  female  14.0      1      0\n",
      "..        ...     ...     ...   ...    ...    ...\n",
      "879         1       1  female  56.0      0      1\n",
      "880         1       2  female  25.0      0      1\n",
      "882         0       3  female  22.0      0      0\n",
      "885         0       3  female  39.0      0      5\n",
      "887         1       1  female  19.0      0      0\n",
      "\n",
      "[261 rows x 6 columns]\n"
     ]
    }
   ],
   "source": [
    "print(maleCleaned,femaleCleaned)"
   ]
  },
  {
   "cell_type": "code",
   "execution_count": 24,
   "id": "8c893b17",
   "metadata": {
    "slideshow": {
     "slide_type": "skip"
    }
   },
   "outputs": [
    {
     "name": "stdout",
     "output_type": "stream",
     "text": [
      "Sex   Survived\n",
      "male  0           360\n",
      "      1            93\n",
      "dtype: int64\n",
      "Sex     Survived\n",
      "female  0            64\n",
      "        1           197\n",
      "dtype: int64\n"
     ]
    }
   ],
   "source": [
    "print(maleCleaned.groupby(['Sex','Survived']).size())\n",
    "print(femaleCleaned.groupby(['Sex','Survived']).size())"
   ]
  },
  {
   "cell_type": "code",
   "execution_count": 25,
   "id": "c15ea3d6",
   "metadata": {
    "slideshow": {
     "slide_type": "skip"
    }
   },
   "outputs": [],
   "source": [
    "df_cleaned_age = pd.concat([maleCleaned,femaleCleaned],ignore_index=True)"
   ]
  },
  {
   "cell_type": "code",
   "execution_count": 26,
   "id": "9a2c4d3e",
   "metadata": {
    "slideshow": {
     "slide_type": "skip"
    }
   },
   "outputs": [
    {
     "data": {
      "text/plain": [
       "array(['male', 'female'], dtype=object)"
      ]
     },
     "execution_count": 26,
     "metadata": {},
     "output_type": "execute_result"
    }
   ],
   "source": [
    "df_cleaned_age.Sex.unique()"
   ]
  },
  {
   "cell_type": "code",
   "execution_count": 27,
   "id": "8db87836",
   "metadata": {
    "slideshow": {
     "slide_type": "slide"
    }
   },
   "outputs": [],
   "source": [
    "number_survived = df_cleaned_age[df_cleaned_age['Survived'] == True]['Survived'].count()\n",
    "number_died = df_cleaned_age[df_cleaned_age['Survived'] == False]['Survived'].count()\n",
    "\n",
    "\n",
    "numMaleSurvivors = df_cleaned_age.groupby(['Survived','Sex']).size()[1,'male']\n",
    "numMaleNonSurvivors = df_cleaned_age.groupby(['Survived','Sex']).size()[0,'male']\n",
    "numFemaleSurvivors = df_cleaned_age.groupby(['Survived','Sex']).size()[1,'female']\n",
    "numFemaleNonSurvivors = df_cleaned_age.groupby(['Survived','Sex']).size()[0,'female']"
   ]
  },
  {
   "cell_type": "code",
   "execution_count": 28,
   "id": "057a5d20",
   "metadata": {
    "slideshow": {
     "slide_type": "subslide"
    }
   },
   "outputs": [
    {
     "data": {
      "image/png": "[encoded data removed]",
      "text/plain": [
       "<Figure size 432x288 with 1 Axes>"
      ]
     },
     "metadata": {
      "needs_background": "light"
     },
     "output_type": "display_data"
    }
   ],
   "source": [
    "\n",
    "fig, ax = plt.subplots()\n",
    "\n",
    "\n",
    "x = femaleCleaned['Survived'].unique()\n",
    "\n",
    "# Return the Series having frequency count of each unique value\n",
    "y = femaleCleaned['Survived'].value_counts(sort=False)\n",
    "\n",
    "plt.bar(x, y)\n",
    "\n",
    "labels=[\"Died\",\"Survived\"]\n",
    "\n",
    "# Labeling the axes\n",
    "plt.title('Feale death VS Survivel')\n",
    "plt.xlabel('Died VS Survived')\n",
    "plt.ylabel('count')\n",
    "\n",
    "plt.xticks(x, labels,rotation=70)\n",
    "ax.set_xticklabels(labels)\n",
    "# Dsiplay the plot\n",
    "plt.show()"
   ]
  },
  {
   "cell_type": "code",
   "execution_count": 29,
   "id": "23d45b2a",
   "metadata": {
    "slideshow": {
     "slide_type": "subslide"
    }
   },
   "outputs": [
    {
     "data": {
      "image/png": "[encoded data removed]",
      "text/plain": [
       "<Figure size 432x288 with 1 Axes>"
      ]
     },
     "metadata": {
      "needs_background": "light"
     },
     "output_type": "display_data"
    }
   ],
   "source": [
    "fig, ax = plt.subplots()\n",
    "\n",
    "\n",
    "x = maleCleaned['Survived'].unique()\n",
    "\n",
    "# Return the Series having frequency count of each unique value\n",
    "y = maleCleaned['Survived'].value_counts(sort=False)\n",
    "\n",
    "plt.bar(x, y)\n",
    "\n",
    "labels=[\"Died\",\"Survived\"]\n",
    "\n",
    "# Labeling the axes\n",
    "plt.title('Male death VS Survivel')\n",
    "plt.xlabel('Died VS Survived')\n",
    "plt.ylabel('count')\n",
    "\n",
    "plt.xticks(x, labels,rotation=70)\n",
    "ax.set_xticklabels(labels)\n",
    "# Dsiplay the plot\n",
    "plt.show()"
   ]
  },
  {
   "cell_type": "markdown",
   "id": "ce55a33b",
   "metadata": {
    "slideshow": {
     "slide_type": "slide"
    }
   },
   "source": [
    "Women have a higher survival rate than men. \"Laddy first\" may have played a role in the survival of many people, according to the graphs."
   ]
  },
  {
   "cell_type": "markdown",
   "id": "95055e48",
   "metadata": {
    "slideshow": {
     "slide_type": "slide"
    }
   },
   "source": [
    "# Question 3\n",
    "Did age, regardless of gender, have any effect on survival rates?"
   ]
  },
  {
   "cell_type": "code",
   "execution_count": 37,
   "id": "d2e8cee9",
   "metadata": {
    "slideshow": {
     "slide_type": "slide"
    }
   },
   "outputs": [
    {
     "name": "stdout",
     "output_type": "stream",
     "text": [
      "Total number of survivors :  290  \n",
      "Total number of non survivors : 424  \n",
      "Total number of Children (age < 15) :  78  \n",
      "Total number of Adult with (age >= 15) :  636\n"
     ]
    }
   ],
   "source": [
    "numberChildren = df_cleaned_age[df_cleaned_age['Age'] < 15]['Age'].count()\n",
    "numberAdult = df_cleaned_age[df_cleaned_age['Age'] >= 15]['Age'].count()\n",
    "\n",
    "print('Total number of survivors : ',number_survived,' \\n\\\n",
    "Total number of non survivors :',number_died ,' \\n\\\n",
    "Total number of Children (age < 15) : ',numberChildren,' \\n\\\n",
    "Total number of Adult with (age >= 15) : ',numberAdult)\n",
    "\n"
   ]
  },
  {
   "cell_type": "code",
   "execution_count": 40,
   "id": "c4df0d92",
   "metadata": {
    "slideshow": {
     "slide_type": "subslide"
    }
   },
   "outputs": [
    {
     "name": "stdout",
     "output_type": "stream",
     "text": [
      "Category  Survived\n",
      "Adult     0           372\n",
      "          1           229\n",
      "Children  0            52\n",
      "          1            61\n",
      "dtype: int64\n"
     ]
    },
    {
     "name": "stderr",
     "output_type": "stream",
     "text": [
      "C:\\Users\\Hisham\\anaconda3\\lib\\site-packages\\seaborn\\categorical.py:3704: UserWarning: The `factorplot` function has been renamed to `catplot`. The original name will be removed in a future release. Please update your code. Note that the default `kind` in `factorplot` (`'point'`) has changed `'strip'` in `catplot`.\n",
      "  warnings.warn(msg)\n",
      "C:\\Users\\Hisham\\anaconda3\\lib\\site-packages\\seaborn\\categorical.py:3710: UserWarning: The `size` parameter has been renamed to `height`; please update your code.\n",
      "  warnings.warn(msg, UserWarning)\n",
      "C:\\Users\\Hisham\\anaconda3\\lib\\site-packages\\seaborn\\_decorators.py:36: FutureWarning: Pass the following variable as a keyword arg: x. From version 0.12, the only valid positional argument will be `data`, and passing other arguments without an explicit keyword will result in an error or misinterpretation.\n",
      "  warnings.warn(\n"
     ]
    },
    {
     "data": {
      "image/png": "[encoded data removed]",
      "text/plain": [
       "<Figure size 806.4x504 with 2 Axes>"
      ]
     },
     "metadata": {
      "needs_background": "light"
     },
     "output_type": "display_data"
    }
   ],
   "source": [
    "df_cleaned_age.loc[\n",
    "    (df_cleaned_age['Age'] < 18),\n",
    "    'Category'] = 'Children'\n",
    "\n",
    "df_cleaned_age.loc[\n",
    "    (df_cleaned_age['Age'] >= 18),\n",
    "    'Category'] = 'Adult'\n",
    "\n",
    "# Get the totals grouped by Children and Adult, and by survival\n",
    "print(df_cleaned_age.groupby(['Category','Survived']).size())\n",
    "\n",
    "# Graph - Compare survival count between Men and Women\n",
    "g = sns.factorplot('Survived', col='Category', data=df_cleaned_age, kind='count', size=7, aspect=.8)\n",
    "\n",
    "# Fix up the labels\n",
    "(g.set_axis_labels('Suvivors', 'No. of Passengers')\n",
    "    .set_xticklabels(['False', 'True'])\n",
    ")\n",
    "\n",
    "titles = ['Adult', 'Children']\n",
    "for ax, title in zip(g.axes.flat, titles):\n",
    "    ax.set_title(title);"
   ]
  },
  {
   "cell_type": "markdown",
   "id": "dfb5204c",
   "metadata": {
    "slideshow": {
     "slide_type": "slide"
    }
   },
   "source": [
    "We can conclude that no matter the gender the servive rate of Adult is lower than the survive rate of Children. "
   ]
  },
  {
   "cell_type": "markdown",
   "id": "c5b78263",
   "metadata": {
    "slideshow": {
     "slide_type": "slide"
    }
   },
   "source": [
    "# Conclusion\n",
    "In the analysis, the results of the analysis do suggest that a female with an upper social-economic class would have better chance of surviving the Titanic disaster. Than if she wasn't a member of the upper social class. I could not find a significant correlation between age and surviving due to the huge missing data. The third class was the least likely to survive for one who was a man. Generally speaking, the survival rate of children and women is higher than that of men in general, however, this was not a guarantee.\n"
   ]
  },
  {
   "cell_type": "code",
   "execution_count": null,
   "id": "862233d1",
   "metadata": {
    "slideshow": {
     "slide_type": "skip"
    }
   },
   "outputs": [],
   "source": []
  }
 ],
 "metadata": {
  "celltoolbar": "Slideshow",
  "kernelspec": {
   "display_name": "Python 3",
   "language": "python",
   "name": "python3"
  },
  "language_info": {
   "codemirror_mode": {
    "name": "ipython",
    "version": 3
   },
   "file_extension": ".py",
   "mimetype": "text/x-python",
   "name": "python",
   "nbconvert_exporter": "python",
   "pygments_lexer": "ipython3",
   "version": "3.8.10"
  }
 },
 "nbformat": 4,
 "nbformat_minor": 5
}
